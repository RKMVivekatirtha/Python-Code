{
  "nbformat": 4,
  "nbformat_minor": 0,
  "metadata": {
    "colab": {
      "provenance": []
    },
    "kernelspec": {
      "name": "python3",
      "display_name": "Python 3"
    },
    "language_info": {
      "name": "python"
    }
  },
  "cells": [
    {
      "cell_type": "code",
      "execution_count": null,
      "metadata": {
        "colab": {
          "base_uri": "https://localhost:8080/"
        },
        "id": "tfADaLH21P4J",
        "outputId": "d69c8f23-02c8-44c6-fc82-428364710348"
      },
      "outputs": [
        {
          "output_type": "stream",
          "name": "stdout",
          "text": [
            "Enter an integer150\n",
            "Enter another integer23\n",
            "150 <class 'str'> 140549060132528\n",
            "23 <class 'str'> 140549047597424\n"
          ]
        }
      ],
      "source": [
        "num1=input(\"Enter an integer\")\n",
        "num2=input(\"Enter another integer\")\n",
        "print(num1,type(num1),id(num1))\n",
        "print(num2,type(num2),id(num2))"
      ]
    },
    {
      "cell_type": "code",
      "source": [
        "x=input(\"Enter a value\")\n",
        "y=input(\"Enter another value\")\n",
        "z=x+y\n",
        "print(\"Result is \",z)"
      ],
      "metadata": {
        "colab": {
          "base_uri": "https://localhost:8080/"
        },
        "id": "uRA8NkcW2eYm",
        "outputId": "8225e944-4370-4b89-d973-bd2ee408be5c"
      },
      "execution_count": null,
      "outputs": [
        {
          "output_type": "stream",
          "name": "stdout",
          "text": [
            "Enter a value12\n",
            "Enter another value23\n",
            "Result is  1223\n"
          ]
        }
      ]
    },
    {
      "cell_type": "code",
      "source": [
        "num1=int(input(\"Enter an integer\"))\n",
        "num2=int(input(\"Enter another integer\"))\n",
        "print(num1,type(num1),id(num1))\n",
        "print(num2,type(num2),id(num2))\n",
        "total=num1+num2\n",
        "print(\"so\",num1,\" + \",num2,\" = \",total)"
      ],
      "metadata": {
        "colab": {
          "base_uri": "https://localhost:8080/"
        },
        "id": "hOeytOOK2Fu9",
        "outputId": "00fac861-2a52-4348-c320-0a6aa7480983"
      },
      "execution_count": null,
      "outputs": [
        {
          "output_type": "stream",
          "name": "stdout",
          "text": [
            "Enter an integer12\n",
            "Enter another integer23\n",
            "12 <class 'int'> 139990778053200\n",
            "23 <class 'int'> 139990778053552\n",
            "so 12  +  23  =  35\n"
          ]
        }
      ]
    },
    {
      "cell_type": "code",
      "source": [
        "num1=12\n",
        "num2=45\n",
        "print(\"so  \"+str(num1)+\" + \"+str(num2)+\" = \"+str(total))\n",
        "print(\"So {}+ {}= {}\".format(num1,num2,total))  #Place holder\n",
        "print(\"So {0}+ {1}= {2}\".format(num1,num2,total))#index place holder\n",
        "print(\"So {a}+ {b}= {c}\".format(a=num1,b=num2,c=total))\n",
        "print(\"So {a}+ {b}= {c}\".format(b=num2,c=total,a=num1))\n",
        "print(\"So %8d + %8.2f =%d\"%(num2,num1,total))\n",
        "print(\"So %6d + %8.3f =%d\"%(num2,num1,total))\n",
        "print(f\"so {num1}+{num2}={total}\") # f means smart formatting\n"
      ],
      "metadata": {
        "colab": {
          "base_uri": "https://localhost:8080/"
        },
        "id": "jgFSM97RAqE_",
        "outputId": "f6e08804-746b-42ee-b0b6-d7daa78348b7"
      },
      "execution_count": null,
      "outputs": [
        {
          "output_type": "stream",
          "name": "stdout",
          "text": [
            "so  12 + 45 = 35\n",
            "So 12+ 45= 35\n",
            "So 12+ 45= 35\n",
            "So 12+ 45= 35\n",
            "So 12+ 45= 35\n",
            "So       45 +    12.00 =35\n",
            "So     45 +   12.000 =35\n",
            "so 12+45=35\n"
          ]
        }
      ]
    },
    {
      "cell_type": "code",
      "source": [
        "\n",
        "s=\"Calcutta\"\n",
        "print(len(s),type(s),id(s))\n",
        "'''0  1  2  3   4  5  6   7\n",
        "   C  a  l  c   u  t  t   a\n",
        "  -8 -7 -6 -5   -4 -3 -2 -1'''\n",
        "print(s[3],s[-2],s[1:5])\n",
        "print(s[2:10])\n",
        "print(s[-4:])\n",
        "print(s[:-4])\n",
        "print(s[6::-3])\n"
      ],
      "metadata": {
        "colab": {
          "base_uri": "https://localhost:8080/"
        },
        "id": "eO3GP0i_DJo6",
        "outputId": "c2b9e487-fe02-4e85-fcbf-d8a38c2b93d4"
      },
      "execution_count": null,
      "outputs": [
        {
          "output_type": "stream",
          "name": "stdout",
          "text": [
            "8 <class 'str'> 140529999615920\n",
            "c t alcu\n",
            "lcutta\n",
            "utta\n",
            "Calc\n",
            "tcC\n"
          ]
        }
      ]
    },
    {
      "cell_type": "code",
      "source": [
        "x=\"KolKaTa UniVeRCity. Delhi\"\n",
        "print(x.upper())\n",
        "print(x.lower())\n",
        "print(x.swapcase())\n",
        "print(x.capitalize())\n",
        "print(x.title())"
      ],
      "metadata": {
        "colab": {
          "base_uri": "https://localhost:8080/"
        },
        "id": "9FrHtZa2NSmy",
        "outputId": "571437a7-d8e9-44b4-c22a-d6eeb7a8ab48"
      },
      "execution_count": null,
      "outputs": [
        {
          "output_type": "stream",
          "name": "stdout",
          "text": [
            "KOLKATA UNIVERCITY. DELHI\n",
            "kolkata univercity. delhi\n",
            "kOLkAtA uNIvErcITY. dELHI\n",
            "Kolkata univercity. delhi\n",
            "Kolkata Univercity. Delhi\n"
          ]
        }
      ]
    },
    {
      "cell_type": "code",
      "source": [
        "a=\"Charity beginsity at Home \"\n",
        "print(a.find(\"ity\"))"
      ],
      "metadata": {
        "colab": {
          "base_uri": "https://localhost:8080/"
        },
        "id": "G62EFGj9IGuf",
        "outputId": "d1797365-8e1d-410b-df8a-f061219b3e9d"
      },
      "execution_count": null,
      "outputs": [
        {
          "output_type": "stream",
          "name": "stdout",
          "text": [
            "4\n"
          ]
        }
      ]
    },
    {
      "cell_type": "code",
      "source": [
        "\n",
        "\n",
        "\n",
        "\n"
      ],
      "metadata": {
        "colab": {
          "base_uri": "https://localhost:8080/",
          "height": 235
        },
        "id": "3z_lS_DE38LG",
        "outputId": "644455d9-7e46-4774-db38-8d91a2ac0710"
      },
      "execution_count": null,
      "outputs": [
        {
          "output_type": "error",
          "ename": "NameError",
          "evalue": "ignored",
          "traceback": [
            "\u001b[0;31m---------------------------------------------------------------------------\u001b[0m",
            "\u001b[0;31mNameError\u001b[0m                                 Traceback (most recent call last)",
            "\u001b[0;32m<ipython-input-4-2c054a8c2dfb>\u001b[0m in \u001b[0;36m<cell line: 3>\u001b[0;34m()\u001b[0m\n\u001b[1;32m      1\u001b[0m \u001b[0mnum1\u001b[0m\u001b[0;34m=\u001b[0m\u001b[0;36m12\u001b[0m\u001b[0;34m\u001b[0m\u001b[0;34m\u001b[0m\u001b[0m\n\u001b[1;32m      2\u001b[0m \u001b[0mnum2\u001b[0m\u001b[0;34m=\u001b[0m\u001b[0;36m45\u001b[0m\u001b[0;34m\u001b[0m\u001b[0;34m\u001b[0m\u001b[0m\n\u001b[0;32m----> 3\u001b[0;31m \u001b[0mprint\u001b[0m\u001b[0;34m(\u001b[0m\u001b[0;34m\"so  \"\u001b[0m\u001b[0;34m+\u001b[0m\u001b[0mstr\u001b[0m\u001b[0;34m(\u001b[0m\u001b[0mnum1\u001b[0m\u001b[0;34m)\u001b[0m\u001b[0;34m+\u001b[0m\u001b[0;34m\" + \"\u001b[0m\u001b[0;34m+\u001b[0m\u001b[0mstr\u001b[0m\u001b[0;34m(\u001b[0m\u001b[0mnum2\u001b[0m\u001b[0;34m)\u001b[0m\u001b[0;34m+\u001b[0m\u001b[0;34m\" = \"\u001b[0m\u001b[0;34m+\u001b[0m\u001b[0mstr\u001b[0m\u001b[0;34m(\u001b[0m\u001b[0mtotal\u001b[0m\u001b[0;34m)\u001b[0m\u001b[0;34m)\u001b[0m\u001b[0;34m\u001b[0m\u001b[0;34m\u001b[0m\u001b[0m\n\u001b[0m\u001b[1;32m      4\u001b[0m \u001b[0mprint\u001b[0m\u001b[0;34m(\u001b[0m\u001b[0;34m\"So {}+ {}= {}\"\u001b[0m\u001b[0;34m.\u001b[0m\u001b[0mformat\u001b[0m\u001b[0;34m(\u001b[0m\u001b[0mnum1\u001b[0m\u001b[0;34m,\u001b[0m\u001b[0mnum2\u001b[0m\u001b[0;34m,\u001b[0m\u001b[0mtotal\u001b[0m\u001b[0;34m)\u001b[0m\u001b[0;34m)\u001b[0m  \u001b[0;31m#Place holder\u001b[0m\u001b[0;34m\u001b[0m\u001b[0;34m\u001b[0m\u001b[0m\n\u001b[1;32m      5\u001b[0m \u001b[0mprint\u001b[0m\u001b[0;34m(\u001b[0m\u001b[0;34m\"So {0}+ {1}= {2}\"\u001b[0m\u001b[0;34m.\u001b[0m\u001b[0mformat\u001b[0m\u001b[0;34m(\u001b[0m\u001b[0mnum1\u001b[0m\u001b[0;34m,\u001b[0m\u001b[0mnum2\u001b[0m\u001b[0;34m,\u001b[0m\u001b[0mtotal\u001b[0m\u001b[0;34m)\u001b[0m\u001b[0;34m)\u001b[0m\u001b[0;31m#index place holder\u001b[0m\u001b[0;34m\u001b[0m\u001b[0;34m\u001b[0m\u001b[0m\n",
            "\u001b[0;31mNameError\u001b[0m: name 'total' is not defined"
          ]
        }
      ]
    }
  ]
}