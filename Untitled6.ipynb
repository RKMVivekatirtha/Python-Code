{
  "nbformat": 4,
  "nbformat_minor": 0,
  "metadata": {
    "colab": {
      "provenance": []
    },
    "kernelspec": {
      "name": "python3",
      "display_name": "Python 3"
    },
    "language_info": {
      "name": "python"
    }
  },
  "cells": [
    {
      "cell_type": "code",
      "execution_count": 66,
      "metadata": {
        "colab": {
          "base_uri": "https://localhost:8080/"
        },
        "id": "fI3TxkD51g5e",
        "outputId": "7b8ff426-c517-434b-b944-5de098cbbba7"
      },
      "outputs": [
        {
          "output_type": "stream",
          "name": "stdout",
          "text": [
            "3\n"
          ]
        }
      ],
      "source": [
        "#count function returns the count of the item that we passed as an argument\n",
        "li=[13,18,20,18,18,23]\n",
        "print(li.count(18))"
      ]
    },
    {
      "cell_type": "code",
      "source": [
        "#reverse function reverses the item of the list.\n",
        "li=[13,18,20,18,18,23]\n",
        "print(li.reverse())\n",
        "print(li)\n",
        "l2=['q','e','e']\n",
        "l2.reverse()\n",
        "print(l2)"
      ],
      "metadata": {
        "colab": {
          "base_uri": "https://localhost:8080/"
        },
        "id": "3i0cr57x2Xjp",
        "outputId": "8a0d781d-1572-4553-87f1-6c98cb10d1cf"
      },
      "execution_count": 7,
      "outputs": [
        {
          "output_type": "stream",
          "name": "stdout",
          "text": [
            "None\n",
            "[23, 18, 18, 20, 18, 13]\n",
            "['e', 'e', 'q']\n"
          ]
        }
      ]
    },
    {
      "cell_type": "code",
      "source": [
        "#sort method sorts the items\n",
        "li=[67,45,5,89,9]\n",
        "li.sort()\n",
        "print(li)\n",
        "l2=['i','e','arm','u','o']\n",
        "l2.sort()\n",
        "print(l2)"
      ],
      "metadata": {
        "colab": {
          "base_uri": "https://localhost:8080/"
        },
        "id": "dZVpa1Oj3wHT",
        "outputId": "d0eeda07-ee9c-4dda-b506-614e60c51ed9"
      },
      "execution_count": 10,
      "outputs": [
        {
          "output_type": "stream",
          "name": "stdout",
          "text": [
            "[5, 9, 45, 67, 89]\n",
            "['arm', 'e', 'i', 'o', 'u']\n"
          ]
        }
      ]
    },
    {
      "cell_type": "code",
      "source": [
        "li=[67,45,5,89,9]\n",
        "li.sort(reverse=True)\n",
        "print(li)"
      ],
      "metadata": {
        "colab": {
          "base_uri": "https://localhost:8080/"
        },
        "id": "dtncX7975JoA",
        "outputId": "851a169b-3d58-42a8-a4f9-3516380e9705"
      },
      "execution_count": 11,
      "outputs": [
        {
          "output_type": "stream",
          "name": "stdout",
          "text": [
            "[89, 67, 45, 9, 5]\n"
          ]
        }
      ]
    },
    {
      "cell_type": "code",
      "source": [
        "#Tuples\n",
        "t=()\n",
        "t=(1,7)\n",
        "print(t)"
      ],
      "metadata": {
        "colab": {
          "base_uri": "https://localhost:8080/"
        },
        "id": "aHhZCbIw5keF",
        "outputId": "91f85f24-e0e5-47e5-de3c-9489abef82dd"
      },
      "execution_count": 13,
      "outputs": [
        {
          "output_type": "stream",
          "name": "stdout",
          "text": [
            "(1, 7)\n"
          ]
        }
      ]
    },
    {
      "cell_type": "code",
      "source": [
        "#Making a tuple with a single element just add a comma\n",
        "t=3,\n",
        "print(t)"
      ],
      "metadata": {
        "colab": {
          "base_uri": "https://localhost:8080/"
        },
        "id": "mhlrxcaN6Qel",
        "outputId": "1c04acc4-38f8-4c91-b2f3-5aa5c161428e"
      },
      "execution_count": 17,
      "outputs": [
        {
          "output_type": "stream",
          "name": "stdout",
          "text": [
            "(3,)\n"
          ]
        }
      ]
    },
    {
      "cell_type": "code",
      "source": [
        "#creati9ng tuple existing sequences\n",
        "t1=tuple(\"hello\")\n",
        "print(t1)"
      ],
      "metadata": {
        "colab": {
          "base_uri": "https://localhost:8080/"
        },
        "id": "deIT-hmH60As",
        "outputId": "8060db02-629a-43af-c1d4-282765b20a7c"
      },
      "execution_count": 18,
      "outputs": [
        {
          "output_type": "stream",
          "name": "stdout",
          "text": [
            "('h', 'e', 'l', 'l', 'o')\n"
          ]
        }
      ]
    },
    {
      "cell_type": "code",
      "source": [
        "#Create tuple from user\n",
        "t1=tuple(input(\"Enter elements\"))\n",
        "print(t1)"
      ],
      "metadata": {
        "colab": {
          "base_uri": "https://localhost:8080/"
        },
        "id": "FhIxoMZg7Icb",
        "outputId": "c6aa49f1-6d0f-441b-9433-0fd32d6684ac"
      },
      "execution_count": 20,
      "outputs": [
        {
          "output_type": "stream",
          "name": "stdout",
          "text": [
            "Enter elements5676543\n",
            "('5', '6', '7', '6', '5', '4', '3')\n"
          ]
        }
      ]
    },
    {
      "cell_type": "code",
      "source": [
        "t1=tuple(input(\"Enter elements\"))\n",
        "print(t1)"
      ],
      "metadata": {
        "colab": {
          "base_uri": "https://localhost:8080/"
        },
        "id": "y_2S1JFm7kUG",
        "outputId": "23de0d50-ef22-44fb-fd7b-9c3cca4691ac"
      },
      "execution_count": 21,
      "outputs": [
        {
          "output_type": "stream",
          "name": "stdout",
          "text": [
            "Enter elementsRambabu\n",
            "('R', 'a', 'm', 'b', 'a', 'b', 'u')\n"
          ]
        }
      ]
    },
    {
      "cell_type": "code",
      "source": [
        "#Joining of two tuples\n",
        "t1=(2,6,9)\n",
        "t2=(90,5,67)\n",
        "t3=t1+t2\n",
        "print(t3)"
      ],
      "metadata": {
        "colab": {
          "base_uri": "https://localhost:8080/"
        },
        "id": "4PlRIrVrFV1I",
        "outputId": "b2cbcc94-a0c7-4c2a-e0c6-aa0a80cb8123"
      },
      "execution_count": 39,
      "outputs": [
        {
          "output_type": "stream",
          "name": "stdout",
          "text": [
            "(2, 6, 9, 90, 5, 67)\n"
          ]
        }
      ]
    },
    {
      "cell_type": "code",
      "source": [
        "t1=(23,34)\n",
        "print(t1*3)"
      ],
      "metadata": {
        "colab": {
          "base_uri": "https://localhost:8080/"
        },
        "id": "o7n6gp6CGC1N",
        "outputId": "fc4fb3c8-6543-41a8-8c25-c47bd049df75"
      },
      "execution_count": 51,
      "outputs": [
        {
          "output_type": "stream",
          "name": "stdout",
          "text": [
            "(23, 34, 23, 34, 23, 34, 23, 34, 23, 34, 23, 34, 23, 34, 23, 34, 23, 34)\n"
          ]
        }
      ]
    },
    {
      "cell_type": "code",
      "source": [],
      "metadata": {
        "id": "WbmakiR1FXhw"
      },
      "execution_count": null,
      "outputs": []
    },
    {
      "cell_type": "code",
      "source": [],
      "metadata": {
        "id": "-YxSF1e5FcbH"
      },
      "execution_count": null,
      "outputs": []
    },
    {
      "cell_type": "code",
      "source": [
        "tuple=eval(input(\"Enter elements\"))\n",
        "print(tuple)"
      ],
      "metadata": {
        "colab": {
          "base_uri": "https://localhost:8080/"
        },
        "id": "YNDLiifM8A8z",
        "outputId": "e0e40d23-a37d-45cb-8a92-9b7e59bc669c"
      },
      "execution_count": 22,
      "outputs": [
        {
          "output_type": "stream",
          "name": "stdout",
          "text": [
            "Enter elements10,12,\"Ram\",45.98\n",
            "(10, 12, 'Ram', 45.98)\n"
          ]
        }
      ]
    },
    {
      "cell_type": "code",
      "source": [
        "t1=(56,87,8,9,90)\n",
        "sum=0\n",
        "for a in t1:\n",
        "  sum=sum+a\n",
        "print(\"Sum= \",sum)"
      ],
      "metadata": {
        "colab": {
          "base_uri": "https://localhost:8080/"
        },
        "id": "AFXk5F7c8hRG",
        "outputId": "edf9191c-8f64-4d1a-e4b1-dc2a6d9a333d"
      },
      "execution_count": 31,
      "outputs": [
        {
          "output_type": "stream",
          "name": "stdout",
          "text": [
            "Sum=  250\n"
          ]
        }
      ]
    },
    {
      "cell_type": "code",
      "source": [
        "t1=(2,3,4,6)\n",
        "sum=0\n",
        "for i in range(4):\n",
        "  if(t1[i]%2==0):\n",
        "    sum=sum+t1[i]\n",
        "\n",
        "print(sum)\n"
      ],
      "metadata": {
        "colab": {
          "base_uri": "https://localhost:8080/"
        },
        "id": "Mx0JQZp7-mJx",
        "outputId": "1b873b29-e1ce-4629-eade-af5e98c31b82"
      },
      "execution_count": 32,
      "outputs": [
        {
          "output_type": "stream",
          "name": "stdout",
          "text": [
            "12\n"
          ]
        }
      ]
    },
    {
      "cell_type": "code",
      "source": [
        "t1=(2,3,4,6)\n",
        "sum=0\n",
        "for a in t1:\n",
        "  if(a%2==0):\n",
        "    sum=sum+a\n",
        "print(sum)"
      ],
      "metadata": {
        "colab": {
          "base_uri": "https://localhost:8080/"
        },
        "id": "MLzSp0kv_O0R",
        "outputId": "992bf5ac-13d4-4d99-d004-630e615851cf"
      },
      "execution_count": 34,
      "outputs": [
        {
          "output_type": "stream",
          "name": "stdout",
          "text": [
            "12\n"
          ]
        }
      ]
    },
    {
      "cell_type": "code",
      "source": [
        "t1=(2,3,4,6)\n",
        "sum=0\n",
        "for i in range(4):\n",
        "  if(i%2==0):\n",
        "    sum=sum+t1[i]\n",
        "print(sum)"
      ],
      "metadata": {
        "colab": {
          "base_uri": "https://localhost:8080/"
        },
        "id": "IcUJWjDRBc-d",
        "outputId": "56a25a29-16e2-4062-d9d3-3e0c9a5ce3bf"
      },
      "execution_count": 35,
      "outputs": [
        {
          "output_type": "stream",
          "name": "stdout",
          "text": [
            "6\n"
          ]
        }
      ]
    },
    {
      "cell_type": "code",
      "source": [
        "li=[78,98,56,6,67,43,4]\n",
        "print(li)\n",
        "li[2]=121\n",
        "print(li)"
      ],
      "metadata": {
        "colab": {
          "base_uri": "https://localhost:8080/"
        },
        "id": "4TywlPrgCig5",
        "outputId": "a45e0c60-ff30-4f3c-a9d4-15139b2afbeb"
      },
      "execution_count": 36,
      "outputs": [
        {
          "output_type": "stream",
          "name": "stdout",
          "text": [
            "[78, 98, 56, 6, 67, 43, 4]\n",
            "[78, 98, 121, 6, 67, 43, 4]\n"
          ]
        }
      ]
    },
    {
      "cell_type": "code",
      "source": [
        "#Slicing of Tuples\n",
        "#x=tup[start:stop]\n",
        "tp1=(10,20,30,50,80,90,87,77,50)\n",
        "tp2=tp1[::3]\n",
        "print(tp2)"
      ],
      "metadata": {
        "colab": {
          "base_uri": "https://localhost:8080/"
        },
        "id": "fTFb2zfy78aZ",
        "outputId": "b9d00887-01bc-4cdb-83d0-8e89aff35c2e"
      },
      "execution_count": 71,
      "outputs": [
        {
          "output_type": "stream",
          "name": "stdout",
          "text": [
            "(10, 50, 87)\n"
          ]
        }
      ]
    },
    {
      "cell_type": "code",
      "source": [
        "t=(12,23,34,45,89)  #Packing\n",
        "w,x,y,z,a=t\n",
        "print(w,\" \",x,\"  \",y,\"  \",z,\" \",a)  #Unpacking\n",
        "print(len(t))\n",
        "print(min(t))\n",
        "print(t.index(23))\n"
      ],
      "metadata": {
        "colab": {
          "base_uri": "https://localhost:8080/"
        },
        "id": "wOAnjEqeJolX",
        "outputId": "fc99867a-3fe4-49e1-b7b4-04e3d3e2df7d"
      },
      "execution_count": 74,
      "outputs": [
        {
          "output_type": "stream",
          "name": "stdout",
          "text": [
            "12   23    34    45   89\n",
            "5\n",
            "12\n",
            "1\n"
          ]
        }
      ]
    },
    {
      "cell_type": "code",
      "source": [
        "tup=(12,23,34,45,23,78,23,55)\n",
        "for a in tup:\n",
        "  print(\"Index of \",a,\"is \",tup.index(a))\n"
      ],
      "metadata": {
        "colab": {
          "base_uri": "https://localhost:8080/"
        },
        "id": "2A4VstmMMCyE",
        "outputId": "183a9b9e-61cd-4bca-d1c2-077e2ccb660f"
      },
      "execution_count": 75,
      "outputs": [
        {
          "output_type": "stream",
          "name": "stdout",
          "text": [
            "Index of  12 is  0\n",
            "Index of  23 is  1\n",
            "Index of  34 is  2\n",
            "Index of  45 is  3\n",
            "Index of  23 is  1\n",
            "Index of  78 is  5\n",
            "Index of  23 is  1\n",
            "Index of  55 is  7\n"
          ]
        }
      ]
    },
    {
      "cell_type": "code",
      "source": [
        "print(tup.count(23))"
      ],
      "metadata": {
        "colab": {
          "base_uri": "https://localhost:8080/"
        },
        "id": "Oa9rlr9yMkPM",
        "outputId": "1abe813d-9c21-4900-df33-7b798631aa54"
      },
      "execution_count": 64,
      "outputs": [
        {
          "output_type": "stream",
          "name": "stdout",
          "text": [
            "3\n"
          ]
        }
      ]
    }
  ]
}