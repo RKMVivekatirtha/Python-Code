{
  "nbformat": 4,
  "nbformat_minor": 0,
  "metadata": {
    "colab": {
      "provenance": []
    },
    "kernelspec": {
      "name": "python3",
      "display_name": "Python 3"
    },
    "language_info": {
      "name": "python"
    }
  },
  "cells": [
    {
      "cell_type": "code",
      "execution_count": null,
      "metadata": {
        "id": "cSwpiqP9WO0G"
      },
      "outputs": [],
      "source": [
        "#Fibonacci by recursion\n",
        "def Fibo(n):\n",
        "    if n == 0:\n",
        "        return 0\n",
        "    elif n == 1 or n == 2:\n",
        "        return 1\n",
        "    else:\n",
        "        return Fibo(n-1) + Fibo(n-2)\n",
        "\n",
        "rng=int(input(\"Enter anumber: \"))\n",
        "for i in range(0,rng):\n",
        "  print(Fibo(i),end=\",\")"
      ]
    },
    {
      "cell_type": "code",
      "source": [
        "#Factorial by recursion\n",
        "def fact(x):\n",
        "  if x==1:\n",
        "    return 1\n",
        "  else:\n",
        "    return x*fact(x-1)\n",
        "n=int(input(\"Enter a number: \"))\n",
        "print(fact(n))"
      ],
      "metadata": {
        "id": "5QIql6sCXnPa"
      },
      "execution_count": null,
      "outputs": []
    },
    {
      "cell_type": "code",
      "source": [
        "#HCF by recursion\n",
        "def hcf(x,y):\n",
        "  if y==0:\n",
        "    return x\n",
        "  else:\n",
        "    return hcf(y, x%y)\n",
        "x=20\n",
        "y=40\n",
        "print(hcf(x,y))"
      ],
      "metadata": {
        "id": "62GhMcHbXveW"
      },
      "execution_count": null,
      "outputs": []
    },
    {
      "cell_type": "code",
      "source": [
        "#Escape sequence\n",
        "x=\"Hello how\\nare you\\t fine\"\n",
        "print(x)\n",
        "\n",
        "#RAW String\n",
        "x=\"Hello how\\nare you\\t fine\"\n",
        "print(x)\n",
        "\n",
        "#String formatting\n",
        "print(\"{1},{0}\".format('Ram','Babu'))\n",
        "print(\"{0},{1}\".format('Ram','Babu'))\n",
        "print(\"{a},{b}\".format(a='Ram',b='Babu'))"
      ],
      "metadata": {
        "id": "zzdlRxLkX6Hu"
      },
      "execution_count": null,
      "outputs": []
    },
    {
      "cell_type": "code",
      "source": [
        "#Decimal to binary, octal, hexa-decimal\n",
        "print(\"In decimal {:d}\".format(30))\n",
        "print(\"In binary {0:b}\".format(30))\n",
        "print(\"In octal {0:o}\".format(30))\n",
        "print(\"In hexa-decimal {0:x}\".format(30))"
      ],
      "metadata": {
        "id": "fnxl8VoNYAtw"
      },
      "execution_count": null,
      "outputs": []
    }
  ]
}