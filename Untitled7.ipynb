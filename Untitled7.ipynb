{
  "nbformat": 4,
  "nbformat_minor": 0,
  "metadata": {
    "colab": {
      "provenance": []
    },
    "kernelspec": {
      "name": "python3",
      "display_name": "Python 3"
    },
    "language_info": {
      "name": "python"
    }
  },
  "cells": [
    {
      "cell_type": "code",
      "execution_count": null,
      "metadata": {
        "colab": {
          "base_uri": "https://localhost:8080/"
        },
        "id": "4n01utKa86NM",
        "outputId": "a1a3cda9-f468-4dd4-fc76-79367b11c13b"
      },
      "outputs": [
        {
          "output_type": "stream",
          "name": "stdout",
          "text": [
            "dict_keys(['vowel1', 'vowel2', 'vowel3', 'vowel4', 'vowel5'])\n",
            "dict_values(['a', 'e', 'i', 'o', 'u'])\n"
          ]
        }
      ],
      "source": [
        "#creating a Dictionary\n",
        "d={\"vowel1\":\"a\",\"vowel2\":\"e\",\"vowel3\":'i',\"vowel4\":'o',\"vowel5\":'u'}\n",
        "print(d.keys())\n",
        "print(d.values())\n"
      ]
    },
    {
      "cell_type": "code",
      "source": [
        "for val in d:\n",
        "  print(d[val])"
      ],
      "metadata": {
        "colab": {
          "base_uri": "https://localhost:8080/"
        },
        "id": "6TFLkysG90Jf",
        "outputId": "8a6e5661-8eb1-4598-cd64-c5f6084b5973"
      },
      "execution_count": null,
      "outputs": [
        {
          "output_type": "stream",
          "name": "stdout",
          "text": [
            "a\n",
            "e\n",
            "i\n",
            "o\n",
            "u\n"
          ]
        }
      ]
    },
    {
      "cell_type": "code",
      "source": [
        "print(d)"
      ],
      "metadata": {
        "colab": {
          "base_uri": "https://localhost:8080/"
        },
        "id": "kbsU6BbO_qsJ",
        "outputId": "9d323646-bcd9-448f-b641-b8c954820bba"
      },
      "execution_count": null,
      "outputs": [
        {
          "output_type": "stream",
          "name": "stdout",
          "text": [
            "{'vowel1': 'a', 'vowel2': 'e', 'vowel3': 'i', 'vowel4': 'o', 'vowel5': 'u'}\n"
          ]
        }
      ]
    },
    {
      "cell_type": "code",
      "source": [
        "n=int(input(\"How many nstudents do you want to enter?\"))\n",
        "stu={}\n",
        "for a in range(n):\n",
        "  key=input(\"Name of the student\")\n",
        "  val=int(input(\"Number of competition won\"))\n",
        "  stu[key]=val\n",
        "print(\"you have created\")\n",
        "print(stu)\n"
      ],
      "metadata": {
        "colab": {
          "base_uri": "https://localhost:8080/"
        },
        "id": "8I6jb2Tq_wX2",
        "outputId": "c5de0bee-5fbd-4c70-df99-557ae2610945"
      },
      "execution_count": null,
      "outputs": [
        {
          "output_type": "stream",
          "name": "stdout",
          "text": [
            "How many nstudents do you want to enter?5\n",
            "Name of the studentaaa\n",
            "Number of competition won4\n",
            "Name of the studentbbb\n",
            "Number of competition won5\n",
            "Name of the studentccc\n",
            "Number of competition won3\n",
            "Name of the studentddd\n",
            "Number of competition won7\n",
            "Name of the studenteee\n",
            "Number of competition won10\n",
            "you have created\n",
            "{'aaa': 4, 'bbb': 5, 'ccc': 3, 'ddd': 7, 'eee': 10}\n"
          ]
        }
      ]
    },
    {
      "cell_type": "code",
      "source": [
        "#Delete a value\n",
        "print(stu)\n",
        "stu.clear()\n",
        "print(stu)"
      ],
      "metadata": {
        "colab": {
          "base_uri": "https://localhost:8080/"
        },
        "id": "M9snyFhKDTDV",
        "outputId": "b0bdab0a-683b-4c41-deda-c9a0e59e68db"
      },
      "execution_count": null,
      "outputs": [
        {
          "output_type": "stream",
          "name": "stdout",
          "text": [
            "{'ccc': 3, 'eee': 10}\n",
            "{}\n"
          ]
        }
      ]
    },
    {
      "cell_type": "code",
      "source": [
        "dic={\"West Bengal\":\"Kolkata\",\"Bihar\":\"Patna\",\"aaa\":\"Patna\",\"Orissa\":\"Bbsr\",\"Andhra\":\"Hyderabad\"}\n",
        "print(dic)"
      ],
      "metadata": {
        "colab": {
          "base_uri": "https://localhost:8080/"
        },
        "id": "XR0LVy0aFhTy",
        "outputId": "f211ce1f-bdaf-440e-8eb9-11d29c401301"
      },
      "execution_count": null,
      "outputs": [
        {
          "output_type": "stream",
          "name": "stdout",
          "text": [
            "{'West Bengal': 'Kolkata', 'Bihar': 'Patna', 'aaa': 'Patna', 'Orissa': 'Bbsr', 'Andhra': 'Hyderabad'}\n"
          ]
        }
      ]
    },
    {
      "cell_type": "code",
      "source": [
        "#keys returns all the keys in the dictionary\n",
        "print(dic.keys())\n",
        "#values returns all the values in a dictionary\n",
        "print(dic.values())"
      ],
      "metadata": {
        "colab": {
          "base_uri": "https://localhost:8080/"
        },
        "id": "tsyqyhfeI6ge",
        "outputId": "672fc134-285b-425e-abf1-6599e0b74509"
      },
      "execution_count": null,
      "outputs": [
        {
          "output_type": "stream",
          "name": "stdout",
          "text": [
            "dict_keys(['West Bengal', 'Bihar', 'aaa', 'Orissa', 'Andhra'])\n",
            "dict_values(['Kolkata', 'Patna', 'Patna', 'Bbsr', 'Hyderabad'])\n"
          ]
        }
      ]
    },
    {
      "cell_type": "code",
      "source": [
        "#update()  will join two dictionaries\n",
        "stu1={\"aaa\":45,\"bbb\":80,\"ccc\":85,\"ddd\":80}\n",
        "stu2={\"xxx\":67,\"yyy\":43,\"zzz\":95}\n",
        "stu2.update(stu1)\n",
        "#stu3=stu1+stu2\n",
        "print(stu2)"
      ],
      "metadata": {
        "colab": {
          "base_uri": "https://localhost:8080/"
        },
        "id": "FkBmNPnPJunS",
        "outputId": "8b95577b-88ac-44f3-d883-3e33bfbb628f"
      },
      "execution_count": null,
      "outputs": [
        {
          "output_type": "stream",
          "name": "stdout",
          "text": [
            "{'xxx': 67, 'yyy': 43, 'zzz': 95, 'aaa': 45, 'bbb': 80, 'ccc': 85, 'ddd': 80}\n"
          ]
        }
      ]
    },
    {
      "cell_type": "code",
      "source": [
        "x={\"ZAl\":112,\"XUm\":78,\"ahen\":34,\"Dzlhi\":50}\n",
        "print(\"Max is \",max(x))\n",
        "print(\"Min is \",min(x))"
      ],
      "metadata": {
        "colab": {
          "base_uri": "https://localhost:8080/"
        },
        "id": "GGH9Cx7TLPlc",
        "outputId": "0bcc7426-c969-419b-82c3-3e4a6f1421d2"
      },
      "execution_count": null,
      "outputs": [
        {
          "output_type": "stream",
          "name": "stdout",
          "text": [
            "Max is  ahen\n",
            "Min is  Dzlhi\n"
          ]
        }
      ]
    },
    {
      "cell_type": "code",
      "source": [
        "#Consider a dictionary my_points with single-letter keys, each followed by 2-element tuple\n",
        "# representing the co ordinates of a point in an xy co ordinate Plane\n",
        "''' mpoints={'a':(4,3),'b':(1,2),'c':(5,1)}\n",
        "W.A.P. to calculate the maximum value from within all of the values tuples at same index'''"
      ],
      "metadata": {
        "id": "m2oKplxIZRaR"
      },
      "execution_count": null,
      "outputs": []
    },
    {
      "cell_type": "code",
      "source": [
        "#len function is used to calculate length of the dictionary\n",
        "x=len(dic)\n",
        "print(\"Length is \",len(dic))\n",
        "print(\"length is \",x)\n",
        "#get method is used to get any item\n",
        "print(dic.get(\"bihar\"))"
      ],
      "metadata": {
        "colab": {
          "base_uri": "https://localhost:8080/"
        },
        "id": "VvuTKCG3F7Dd",
        "outputId": "f9821158-5b0a-4de1-8e9a-e82e02c30ba8"
      },
      "execution_count": null,
      "outputs": [
        {
          "output_type": "stream",
          "name": "stdout",
          "text": [
            "Length is  4\n",
            "length is  4\n",
            "None\n"
          ]
        }
      ]
    }
  ]
}