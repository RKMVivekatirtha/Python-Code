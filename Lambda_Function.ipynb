{
  "nbformat": 4,
  "nbformat_minor": 0,
  "metadata": {
    "colab": {
      "provenance": []
    },
    "kernelspec": {
      "name": "python3",
      "display_name": "Python 3"
    },
    "language_info": {
      "name": "python"
    }
  },
  "cells": [
    {
      "cell_type": "code",
      "source": [
        "#15.07.23\n",
        "#Lambda function"
      ],
      "metadata": {
        "id": "_t38E2lCpgqt"
      },
      "execution_count": 1,
      "outputs": []
    },
    {
      "cell_type": "code",
      "source": [
        "#Calculate the square of a number\n",
        "sq=lambda num:num*num\n",
        "result=sq(4)\n",
        "print(result)"
      ],
      "metadata": {
        "colab": {
          "base_uri": "https://localhost:8080/"
        },
        "id": "TG8SmEifpksU",
        "outputId": "c246cb78-d59b-40a9-e2a1-f3d592027309"
      },
      "execution_count": 2,
      "outputs": [
        {
          "output_type": "stream",
          "name": "stdout",
          "text": [
            "16\n"
          ]
        }
      ]
    },
    {
      "cell_type": "code",
      "source": [
        "#Calculate an area\n",
        "area=lambda length,width:length*width\n",
        "result=area(10,15)\n",
        "print(result)"
      ],
      "metadata": {
        "colab": {
          "base_uri": "https://localhost:8080/"
        },
        "id": "gQF1qvDLpolj",
        "outputId": "2d5b9ab8-81fc-4777-904b-fef154d79ee3"
      },
      "execution_count": 3,
      "outputs": [
        {
          "output_type": "stream",
          "name": "stdout",
          "text": [
            "150\n"
          ]
        }
      ]
    },
    {
      "cell_type": "code",
      "source": [
        "#Simple interset\n",
        "ints=lambda principal,rate,time:(principal*rate*time)/100\n",
        "s_interest=ints(15000,15.561,2)\n",
        "print(s_interest)"
      ],
      "metadata": {
        "colab": {
          "base_uri": "https://localhost:8080/"
        },
        "id": "Rs083S6KprI6",
        "outputId": "ba5eb429-5e4f-46aa-acf5-6ddf30d9ce82"
      },
      "execution_count": 4,
      "outputs": [
        {
          "output_type": "stream",
          "name": "stdout",
          "text": [
            "4668.3\n"
          ]
        }
      ]
    },
    {
      "cell_type": "code",
      "source": [
        "#Factorial by recursion using lambda function\n",
        "myfact=lambda num1: 1 if(num1==0 or num1==1) else num1*myfact(num1-1)\n",
        "n=int(input(\"Enter a number: \"))\n",
        "res=myfact(n)\n",
        "print(\"Result is\",res)"
      ],
      "metadata": {
        "colab": {
          "base_uri": "https://localhost:8080/"
        },
        "id": "talKxPZgptt6",
        "outputId": "406328f8-9e32-48fc-cf3a-b86dc07e0971"
      },
      "execution_count": 5,
      "outputs": [
        {
          "output_type": "stream",
          "name": "stdout",
          "text": [
            "Enter a number: 5\n",
            "Result is 120\n"
          ]
        }
      ]
    },
    {
      "cell_type": "code",
      "source": [
        "def func10(num):\n",
        "  myprod=lambda n:n*num\n",
        "  return myprod\n",
        "\n",
        "var10=func10(10)\n",
        "print(var10)\n",
        "var20=func10(20)\n",
        "print(var10(3))\n",
        "print(var10(4))\n",
        "print(func10(30)(5))"
      ],
      "metadata": {
        "colab": {
          "base_uri": "https://localhost:8080/"
        },
        "id": "XxwJD8DopxvD",
        "outputId": "c99f3855-1f94-471d-f2cb-43f1a09d4215"
      },
      "execution_count": 7,
      "outputs": [
        {
          "output_type": "stream",
          "name": "stdout",
          "text": [
            "<function func10.<locals>.<lambda> at 0x79bccd945cf0>\n",
            "30\n",
            "40\n",
            "150\n"
          ]
        }
      ]
    },
    {
      "cell_type": "code",
      "source": [
        "#Filter operation with lambda function\n",
        "list1=[13,28,31,14,22,61]\n",
        "list2=list(filter(lambda x:x%2==0,list1))\n",
        "print(list2)"
      ],
      "metadata": {
        "colab": {
          "base_uri": "https://localhost:8080/"
        },
        "id": "976vcvBKp3Fz",
        "outputId": "cc41b454-65cb-4298-cffe-352e92184864"
      },
      "execution_count": 8,
      "outputs": [
        {
          "output_type": "stream",
          "name": "stdout",
          "text": [
            "[28, 14, 22]\n"
          ]
        }
      ]
    }
  ]
}